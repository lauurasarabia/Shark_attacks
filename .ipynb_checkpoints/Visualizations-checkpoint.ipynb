{
 "cells": [
  {
   "cell_type": "code",
   "execution_count": 155,
   "id": "f7c25a9c",
   "metadata": {},
   "outputs": [],
   "source": [
    "import numpy as np\n",
    "import pandas as pd\n",
    "import seaborn as sns\n",
    "import matplotlib.pyplot as plt\n",
    "import matplotlib\n",
    "import squarify\n",
    "import re"
   ]
  },
  {
   "cell_type": "markdown",
   "id": "d1c68983",
   "metadata": {},
   "source": [
    "# 2. Visualization📊"
   ]
  },
  {
   "cell_type": "markdown",
   "id": "9cb5c36a",
   "metadata": {},
   "source": [
    "Import cleaned CSV"
   ]
  },
  {
   "cell_type": "code",
   "execution_count": 156,
   "id": "ab15ba92",
   "metadata": {},
   "outputs": [
    {
     "data": {
      "text/html": [
       "<div>\n",
       "<style scoped>\n",
       "    .dataframe tbody tr th:only-of-type {\n",
       "        vertical-align: middle;\n",
       "    }\n",
       "\n",
       "    .dataframe tbody tr th {\n",
       "        vertical-align: top;\n",
       "    }\n",
       "\n",
       "    .dataframe thead th {\n",
       "        text-align: right;\n",
       "    }\n",
       "</style>\n",
       "<table border=\"1\" class=\"dataframe\">\n",
       "  <thead>\n",
       "    <tr style=\"text-align: right;\">\n",
       "      <th></th>\n",
       "      <th>Unnamed: 0</th>\n",
       "      <th>Country</th>\n",
       "      <th>Activity</th>\n",
       "      <th>Age</th>\n",
       "      <th>Fatal (Y/N)</th>\n",
       "      <th>Age Group</th>\n",
       "      <th>Top Species</th>\n",
       "      <th>Arm Pts</th>\n",
       "      <th>Leg Pts</th>\n",
       "      <th>Body Pts</th>\n",
       "      <th>Head Pts</th>\n",
       "      <th>Total Pts</th>\n",
       "    </tr>\n",
       "  </thead>\n",
       "  <tbody>\n",
       "    <tr>\n",
       "      <th>0</th>\n",
       "      <td>0</td>\n",
       "      <td>USA</td>\n",
       "      <td>Paddling</td>\n",
       "      <td>57</td>\n",
       "      <td>N</td>\n",
       "      <td>Adult</td>\n",
       "      <td>white shark</td>\n",
       "      <td>0.0</td>\n",
       "      <td>0.0</td>\n",
       "      <td>0.0</td>\n",
       "      <td>0.0</td>\n",
       "      <td>0.0</td>\n",
       "    </tr>\n",
       "    <tr>\n",
       "      <th>1</th>\n",
       "      <td>1</td>\n",
       "      <td>BRAZIL</td>\n",
       "      <td>Swimming</td>\n",
       "      <td>18</td>\n",
       "      <td>Y</td>\n",
       "      <td>Adult</td>\n",
       "      <td>tiger shark</td>\n",
       "      <td>0.0</td>\n",
       "      <td>0.0</td>\n",
       "      <td>0.0</td>\n",
       "      <td>0.0</td>\n",
       "      <td>0.0</td>\n",
       "    </tr>\n",
       "    <tr>\n",
       "      <th>2</th>\n",
       "      <td>2</td>\n",
       "      <td>USA</td>\n",
       "      <td>Walking</td>\n",
       "      <td>15</td>\n",
       "      <td>N</td>\n",
       "      <td>Teenager</td>\n",
       "      <td>bull shark</td>\n",
       "      <td>0.0</td>\n",
       "      <td>20.0</td>\n",
       "      <td>0.0</td>\n",
       "      <td>0.0</td>\n",
       "      <td>20.0</td>\n",
       "    </tr>\n",
       "    <tr>\n",
       "      <th>3</th>\n",
       "      <td>3</td>\n",
       "      <td>AUSTRALIA</td>\n",
       "      <td>Feeding sharks</td>\n",
       "      <td>34</td>\n",
       "      <td>N</td>\n",
       "      <td>Adult</td>\n",
       "      <td>nurse shark</td>\n",
       "      <td>10.0</td>\n",
       "      <td>0.0</td>\n",
       "      <td>0.0</td>\n",
       "      <td>0.0</td>\n",
       "      <td>10.0</td>\n",
       "    </tr>\n",
       "    <tr>\n",
       "      <th>4</th>\n",
       "      <td>4</td>\n",
       "      <td>COSTA RICA</td>\n",
       "      <td>Scuba diving</td>\n",
       "      <td>30</td>\n",
       "      <td>N</td>\n",
       "      <td>Adult</td>\n",
       "      <td>tiger shark</td>\n",
       "      <td>0.0</td>\n",
       "      <td>0.0</td>\n",
       "      <td>0.0</td>\n",
       "      <td>100.0</td>\n",
       "      <td>100.0</td>\n",
       "    </tr>\n",
       "    <tr>\n",
       "      <th>...</th>\n",
       "      <td>...</td>\n",
       "      <td>...</td>\n",
       "      <td>...</td>\n",
       "      <td>...</td>\n",
       "      <td>...</td>\n",
       "      <td>...</td>\n",
       "      <td>...</td>\n",
       "      <td>...</td>\n",
       "      <td>...</td>\n",
       "      <td>...</td>\n",
       "      <td>...</td>\n",
       "      <td>...</td>\n",
       "    </tr>\n",
       "    <tr>\n",
       "      <th>845</th>\n",
       "      <td>845</td>\n",
       "      <td>AUSTRALIA</td>\n",
       "      <td>Swimming</td>\n",
       "      <td>12</td>\n",
       "      <td>Y</td>\n",
       "      <td>Child</td>\n",
       "      <td>bull shark</td>\n",
       "      <td>0.0</td>\n",
       "      <td>20.0</td>\n",
       "      <td>0.0</td>\n",
       "      <td>0.0</td>\n",
       "      <td>20.0</td>\n",
       "    </tr>\n",
       "    <tr>\n",
       "      <th>846</th>\n",
       "      <td>846</td>\n",
       "      <td>USA</td>\n",
       "      <td>Skin diving. Grabbed shark's tail; shark turne...</td>\n",
       "      <td>19</td>\n",
       "      <td>N</td>\n",
       "      <td>Adult</td>\n",
       "      <td>nurse shark</td>\n",
       "      <td>10.0</td>\n",
       "      <td>20.0</td>\n",
       "      <td>0.0</td>\n",
       "      <td>0.0</td>\n",
       "      <td>30.0</td>\n",
       "    </tr>\n",
       "    <tr>\n",
       "      <th>847</th>\n",
       "      <td>847</td>\n",
       "      <td>IRAQ</td>\n",
       "      <td>Swimming naked near a date palm where many dat...</td>\n",
       "      <td>6</td>\n",
       "      <td>N</td>\n",
       "      <td>Child</td>\n",
       "      <td>bull shark</td>\n",
       "      <td>10.0</td>\n",
       "      <td>0.0</td>\n",
       "      <td>0.0</td>\n",
       "      <td>0.0</td>\n",
       "      <td>10.0</td>\n",
       "    </tr>\n",
       "    <tr>\n",
       "      <th>848</th>\n",
       "      <td>848</td>\n",
       "      <td>IRAQ</td>\n",
       "      <td>Swimming in section of river used for washing ...</td>\n",
       "      <td>16</td>\n",
       "      <td>N</td>\n",
       "      <td>Teenager</td>\n",
       "      <td>bull shark</td>\n",
       "      <td>0.0</td>\n",
       "      <td>20.0</td>\n",
       "      <td>0.0</td>\n",
       "      <td>0.0</td>\n",
       "      <td>20.0</td>\n",
       "    </tr>\n",
       "    <tr>\n",
       "      <th>849</th>\n",
       "      <td>849</td>\n",
       "      <td>IRAQ</td>\n",
       "      <td>Swimming</td>\n",
       "      <td>13</td>\n",
       "      <td>Y</td>\n",
       "      <td>Teenager</td>\n",
       "      <td>bull shark</td>\n",
       "      <td>0.0</td>\n",
       "      <td>20.0</td>\n",
       "      <td>0.0</td>\n",
       "      <td>0.0</td>\n",
       "      <td>20.0</td>\n",
       "    </tr>\n",
       "  </tbody>\n",
       "</table>\n",
       "<p>850 rows × 12 columns</p>\n",
       "</div>"
      ],
      "text/plain": [
       "     Unnamed: 0     Country  \\\n",
       "0             0         USA   \n",
       "1             1      BRAZIL   \n",
       "2             2         USA   \n",
       "3             3   AUSTRALIA   \n",
       "4             4  COSTA RICA   \n",
       "..          ...         ...   \n",
       "845         845   AUSTRALIA   \n",
       "846         846         USA   \n",
       "847         847        IRAQ   \n",
       "848         848        IRAQ   \n",
       "849         849        IRAQ   \n",
       "\n",
       "                                              Activity  Age Fatal (Y/N)  \\\n",
       "0                                             Paddling   57           N   \n",
       "1                                             Swimming   18           Y   \n",
       "2                                              Walking   15           N   \n",
       "3                                       Feeding sharks   34           N   \n",
       "4                                         Scuba diving   30           N   \n",
       "..                                                 ...  ...         ...   \n",
       "845                                           Swimming   12           Y   \n",
       "846  Skin diving. Grabbed shark's tail; shark turne...   19           N   \n",
       "847  Swimming naked near a date palm where many dat...    6           N   \n",
       "848  Swimming in section of river used for washing ...   16           N   \n",
       "849                                           Swimming   13           Y   \n",
       "\n",
       "    Age Group  Top Species  Arm Pts  Leg Pts  Body Pts  Head Pts  Total Pts  \n",
       "0       Adult  white shark      0.0      0.0       0.0       0.0        0.0  \n",
       "1       Adult  tiger shark      0.0      0.0       0.0       0.0        0.0  \n",
       "2    Teenager   bull shark      0.0     20.0       0.0       0.0       20.0  \n",
       "3       Adult  nurse shark     10.0      0.0       0.0       0.0       10.0  \n",
       "4       Adult  tiger shark      0.0      0.0       0.0     100.0      100.0  \n",
       "..        ...          ...      ...      ...       ...       ...        ...  \n",
       "845     Child   bull shark      0.0     20.0       0.0       0.0       20.0  \n",
       "846     Adult  nurse shark     10.0     20.0       0.0       0.0       30.0  \n",
       "847     Child   bull shark     10.0      0.0       0.0       0.0       10.0  \n",
       "848  Teenager   bull shark      0.0     20.0       0.0       0.0       20.0  \n",
       "849  Teenager   bull shark      0.0     20.0       0.0       0.0       20.0  \n",
       "\n",
       "[850 rows x 12 columns]"
      ]
     },
     "execution_count": 156,
     "metadata": {},
     "output_type": "execute_result"
    }
   ],
   "source": [
    "attacks = pd.read_csv('/Users/lauurasarabia/Ironhack/projects/attacks_project/cleaning.csv')\n",
    "attacks"
   ]
  },
  {
   "cell_type": "markdown",
   "id": "895128c5",
   "metadata": {},
   "source": [
    "# Let's start with our Shark Tournament!🏅"
   ]
  },
  {
   "cell_type": "markdown",
   "id": "3103d61c",
   "metadata": {},
   "source": [
    "How many species are participating?"
   ]
  },
  {
   "cell_type": "markdown",
   "id": "891f48b4",
   "metadata": {},
   "source": [
    "    6 SPECIES:\n",
    "- WHITE SHARK\n",
    "- TIGER SHARK\n",
    "- BULL SHARK\n",
    "- NURSE SHARK\n",
    "- HAMMERHEAD SHARK\n",
    "- GALAPAGOS SHARK"
   ]
  },
  {
   "cell_type": "code",
   "execution_count": 157,
   "id": "09128757",
   "metadata": {},
   "outputs": [
    {
     "data": {
      "image/png": "[encoded data removed]",
      "text/plain": [
       "<Figure size 432x288 with 1 Axes>"
      ]
     },
     "metadata": {
      "needs_background": "light"
     },
     "output_type": "display_data"
    }
   ],
   "source": [
    "# In the following barplot you can see that White Shark is the most common one.\n",
    "\n",
    "attacks[\"Top Species\"].value_counts().plot(kind=\"bar\", color=[\"#33BAAE\", \"#33CEFF\", \"#7863DE\", \"#DE63DA\", \"#DFE644\", \"#BA3C2D\"], title=\"Number of sharks divided by species\");"
   ]
  },
  {
   "cell_type": "markdown",
   "id": "479b1d14",
   "metadata": {},
   "source": [
    "Where are they from? 🇳🇿🇧🇷🇿🇦🇧🇸"
   ]
  },
  {
   "cell_type": "markdown",
   "id": "36393df7",
   "metadata": {},
   "source": [
    "* USA\n",
    "* AUSTRALIA\n",
    "* BRAZIL\n",
    "* BAHAMAS\n",
    "* SOUTH AFRICA\n",
    "* NEW ZEALAND"
   ]
  },
  {
   "cell_type": "code",
   "execution_count": 158,
   "id": "9f041f07",
   "metadata": {},
   "outputs": [],
   "source": [
    "pts_greater_0 = attacks.loc[attacks[\"Total Pts\"] > 0]\n",
    "total_countries = pts_greater_0.groupby([\"Country\"])[\"Total Pts\"].sum().sort_values(ascending = False).head(6)\n",
    "values = total_countries.tolist()\n",
    "countries = total_countries.index.tolist()"
   ]
  },
  {
   "cell_type": "code",
   "execution_count": 159,
   "id": "e5f9b2dd",
   "metadata": {},
   "outputs": [],
   "source": [
    "# Create a color palette, mapped to these values\n",
    "cmap = matplotlib.cm.Blues\n",
    "mini=min(values)\n",
    "maxi=max(values)\n",
    "norm = matplotlib.colors.Normalize(vmin=mini, vmax=maxi)\n",
    "colors = [cmap(norm(value)) for value in values]"
   ]
  },
  {
   "cell_type": "code",
   "execution_count": 160,
   "id": "f4397e1d",
   "metadata": {},
   "outputs": [
    {
     "data": {
      "image/png": "[encoded data removed]",
      "text/plain": [
       "<Figure size 432x288 with 1 Axes>"
      ]
     },
     "metadata": {
      "needs_background": "light"
     },
     "output_type": "display_data"
    }
   ],
   "source": [
    "# Create a data frame\n",
    "df_countries = pd.DataFrame({'nb_people': values, 'group': countries })\n",
    "\n",
    "# plot it\n",
    "squarify.plot(sizes=df['nb_people'], label=df['group'], alpha=.6, color = colors )\n",
    "plt.axis('off')\n",
    "plt.show()"
   ]
  },
  {
   "cell_type": "markdown",
   "id": "d7e1e5ee",
   "metadata": {},
   "source": [
    "They are mostly from USA🇺🇸  followed by Australia🇦🇺 and South Africa🇿🇦"
   ]
  },
  {
   "cell_type": "markdown",
   "id": "6f3fe24e",
   "metadata": {},
   "source": [
    "# USA🇺🇸 - Category of Fiercest Country🔥"
   ]
  },
  {
   "cell_type": "markdown",
   "id": "51ca0e6f",
   "metadata": {},
   "source": [
    "How many points have the different types achieved in total?"
   ]
  },
  {
   "cell_type": "code",
   "execution_count": 161,
   "id": "f86aa45e",
   "metadata": {},
   "outputs": [
    {
     "data": {
      "image/png": "[encoded data removed]",
      "text/plain": [
       "<Figure size 432x288 with 1 Axes>"
      ]
     },
     "metadata": {
      "needs_background": "light"
     },
     "output_type": "display_data"
    }
   ],
   "source": [
    "# Create dataset\n",
    "speciesSum = attacks.groupby([\"Top Species\"])[\"Total Pts\"].sum()\n",
    "height = speciesSum.tolist()\n",
    "bars = speciesSum.index.tolist()\n",
    "x_pos = np.arange(len(bars))\n",
    " \n",
    "# Create bars\n",
    "plt.bar(x_pos, height)\n",
    " \n",
    "# Create names on the x-axis\n",
    "plt.xticks(x_pos, bars, rotation = 70)\n",
    " \n",
    "# Show graphic\n",
    "plt.show()\n"
   ]
  },
  {
   "cell_type": "markdown",
   "id": "6850c9f9",
   "metadata": {},
   "source": [
    "# White Sharks - Category of Predator Species😈🏆"
   ]
  },
  {
   "cell_type": "markdown",
   "id": "2bfd7dcd",
   "metadata": {},
   "source": [
    "Taking into consideration each shark individually, which is the one who has achieved the best rate of points?"
   ]
  },
  {
   "cell_type": "code",
   "execution_count": 170,
   "id": "065cc4c8",
   "metadata": {},
   "outputs": [
    {
     "data": {
      "image/png": "[encoded data removed]",
      "text/plain": [
       "<Figure size 432x288 with 1 Axes>"
      ]
     },
     "metadata": {
      "needs_background": "light"
     },
     "output_type": "display_data"
    }
   ],
   "source": [
    "# Create dataset\n",
    "speciesSum = attacks.groupby([\"Top Species\"])[\"Total Pts\"].mean()\n",
    "height = speciesSum.tolist()\n",
    "bars = speciesSum.index.tolist()\n",
    "x_pos = np.arange(len(bars))\n",
    " \n",
    "# Create bars\n",
    "plt.bar(x_pos, height, color=\"salmon\")\n",
    " \n",
    "# Create names on the x-axis\n",
    "plt.xticks(x_pos, bars, rotation = 70)\n",
    " \n",
    "# Show graphic\n",
    "plt.show()"
   ]
  },
  {
   "cell_type": "markdown",
   "id": "27414bfb",
   "metadata": {},
   "source": [
    "# Nurse Shark - Category of Most Letal Shark🦈"
   ]
  },
  {
   "cell_type": "markdown",
   "id": "47b4926a",
   "metadata": {},
   "source": [
    "Then... who is our winner?"
   ]
  },
  {
   "cell_type": "code",
   "execution_count": 176,
   "id": "40cb5042",
   "metadata": {
    "scrolled": true
   },
   "outputs": [
    {
     "data": {
      "image/png": "[encoded data removed]",
      "text/plain": [
       "<Figure size 432x288 with 1 Axes>"
      ]
     },
     "metadata": {
      "needs_background": "light"
     },
     "output_type": "display_data"
    }
   ],
   "source": [
    "pts_greater_0 = attacks.loc[attacks[\"Total Pts\"] > 0]\n",
    "total_species = pts_greater_0.groupby([\"Top Species\"])[\"Total Pts\"].max().sort_values(ascending = False).head(3).plot(kind=\"bar\", color=[\"#33BAAE\", \"#33CEFF\", \"#7863DE\"], title=\"TOP 3\");"
   ]
  },
  {
   "cell_type": "markdown",
   "id": "5c8e2ee2",
   "metadata": {},
   "source": [
    "# Our winners are Tiger Shark and White Shark!🎉"
   ]
  }
 ],
 "metadata": {
  "kernelspec": {
   "display_name": "ironhack",
   "language": "python",
   "name": "ironhack"
  },
  "language_info": {
   "codemirror_mode": {
    "name": "ipython",
    "version": 3
   },
   "file_extension": ".py",
   "mimetype": "text/x-python",
   "name": "python",
   "nbconvert_exporter": "python",
   "pygments_lexer": "ipython3",
   "version": "3.9.12"
  },
  "toc": {
   "base_numbering": 1,
   "nav_menu": {},
   "number_sections": true,
   "sideBar": true,
   "skip_h1_title": false,
   "title_cell": "Table of Contents",
   "title_sidebar": "Contents",
   "toc_cell": false,
   "toc_position": {},
   "toc_section_display": true,
   "toc_window_display": false
  }
 },
 "nbformat": 4,
 "nbformat_minor": 5
}
