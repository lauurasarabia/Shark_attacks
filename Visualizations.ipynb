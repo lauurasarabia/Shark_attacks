{
 "cells": [
  {
   "cell_type": "code",
   "execution_count": 33,
   "id": "f7c25a9c",
   "metadata": {},
   "outputs": [],
   "source": [
    "import numpy as np\n",
    "import pandas as pd\n",
    "import seaborn as sns\n",
    "import matplotlib.pyplot as plt\n",
    "import squarify\n",
    "import re"
   ]
  },
  {
   "cell_type": "markdown",
   "id": "d1c68983",
   "metadata": {},
   "source": [
    "# 2. Visualization📊"
   ]
  },
  {
   "cell_type": "code",
   "execution_count": 34,
   "id": "ab15ba92",
   "metadata": {},
   "outputs": [
    {
     "data": {
      "text/html": [
       "<div>\n",
       "<style scoped>\n",
       "    .dataframe tbody tr th:only-of-type {\n",
       "        vertical-align: middle;\n",
       "    }\n",
       "\n",
       "    .dataframe tbody tr th {\n",
       "        vertical-align: top;\n",
       "    }\n",
       "\n",
       "    .dataframe thead th {\n",
       "        text-align: right;\n",
       "    }\n",
       "</style>\n",
       "<table border=\"1\" class=\"dataframe\">\n",
       "  <thead>\n",
       "    <tr style=\"text-align: right;\">\n",
       "      <th></th>\n",
       "      <th>Unnamed: 0</th>\n",
       "      <th>Country</th>\n",
       "      <th>Activity</th>\n",
       "      <th>Age</th>\n",
       "      <th>Fatal (Y/N)</th>\n",
       "      <th>Age Group</th>\n",
       "      <th>Top Species</th>\n",
       "      <th>Arm Pts</th>\n",
       "      <th>Leg Pts</th>\n",
       "      <th>Body Pts</th>\n",
       "      <th>Head Pts</th>\n",
       "      <th>Total Pts</th>\n",
       "    </tr>\n",
       "  </thead>\n",
       "  <tbody>\n",
       "    <tr>\n",
       "      <th>0</th>\n",
       "      <td>0</td>\n",
       "      <td>USA</td>\n",
       "      <td>Paddling</td>\n",
       "      <td>57</td>\n",
       "      <td>N</td>\n",
       "      <td>Adult</td>\n",
       "      <td>white shark</td>\n",
       "      <td>0.0</td>\n",
       "      <td>0.0</td>\n",
       "      <td>0.0</td>\n",
       "      <td>0.0</td>\n",
       "      <td>0.0</td>\n",
       "    </tr>\n",
       "    <tr>\n",
       "      <th>1</th>\n",
       "      <td>1</td>\n",
       "      <td>BRAZIL</td>\n",
       "      <td>Swimming</td>\n",
       "      <td>18</td>\n",
       "      <td>Y</td>\n",
       "      <td>Adult</td>\n",
       "      <td>tiger shark</td>\n",
       "      <td>0.0</td>\n",
       "      <td>0.0</td>\n",
       "      <td>0.0</td>\n",
       "      <td>0.0</td>\n",
       "      <td>0.0</td>\n",
       "    </tr>\n",
       "    <tr>\n",
       "      <th>2</th>\n",
       "      <td>2</td>\n",
       "      <td>USA</td>\n",
       "      <td>Walking</td>\n",
       "      <td>15</td>\n",
       "      <td>N</td>\n",
       "      <td>Teenager</td>\n",
       "      <td>bull shark</td>\n",
       "      <td>0.0</td>\n",
       "      <td>20.0</td>\n",
       "      <td>0.0</td>\n",
       "      <td>0.0</td>\n",
       "      <td>20.0</td>\n",
       "    </tr>\n",
       "    <tr>\n",
       "      <th>3</th>\n",
       "      <td>3</td>\n",
       "      <td>AUSTRALIA</td>\n",
       "      <td>Feeding sharks</td>\n",
       "      <td>34</td>\n",
       "      <td>N</td>\n",
       "      <td>Adult</td>\n",
       "      <td>nurse shark</td>\n",
       "      <td>10.0</td>\n",
       "      <td>0.0</td>\n",
       "      <td>0.0</td>\n",
       "      <td>0.0</td>\n",
       "      <td>10.0</td>\n",
       "    </tr>\n",
       "    <tr>\n",
       "      <th>4</th>\n",
       "      <td>4</td>\n",
       "      <td>COSTA RICA</td>\n",
       "      <td>Scuba diving</td>\n",
       "      <td>30</td>\n",
       "      <td>N</td>\n",
       "      <td>Adult</td>\n",
       "      <td>tiger shark</td>\n",
       "      <td>0.0</td>\n",
       "      <td>0.0</td>\n",
       "      <td>0.0</td>\n",
       "      <td>100.0</td>\n",
       "      <td>100.0</td>\n",
       "    </tr>\n",
       "    <tr>\n",
       "      <th>...</th>\n",
       "      <td>...</td>\n",
       "      <td>...</td>\n",
       "      <td>...</td>\n",
       "      <td>...</td>\n",
       "      <td>...</td>\n",
       "      <td>...</td>\n",
       "      <td>...</td>\n",
       "      <td>...</td>\n",
       "      <td>...</td>\n",
       "      <td>...</td>\n",
       "      <td>...</td>\n",
       "      <td>...</td>\n",
       "    </tr>\n",
       "    <tr>\n",
       "      <th>845</th>\n",
       "      <td>845</td>\n",
       "      <td>AUSTRALIA</td>\n",
       "      <td>Swimming</td>\n",
       "      <td>12</td>\n",
       "      <td>Y</td>\n",
       "      <td>Child</td>\n",
       "      <td>bull shark</td>\n",
       "      <td>0.0</td>\n",
       "      <td>20.0</td>\n",
       "      <td>0.0</td>\n",
       "      <td>0.0</td>\n",
       "      <td>20.0</td>\n",
       "    </tr>\n",
       "    <tr>\n",
       "      <th>846</th>\n",
       "      <td>846</td>\n",
       "      <td>USA</td>\n",
       "      <td>Skin diving. Grabbed shark's tail; shark turne...</td>\n",
       "      <td>19</td>\n",
       "      <td>N</td>\n",
       "      <td>Adult</td>\n",
       "      <td>nurse shark</td>\n",
       "      <td>10.0</td>\n",
       "      <td>20.0</td>\n",
       "      <td>0.0</td>\n",
       "      <td>0.0</td>\n",
       "      <td>30.0</td>\n",
       "    </tr>\n",
       "    <tr>\n",
       "      <th>847</th>\n",
       "      <td>847</td>\n",
       "      <td>IRAQ</td>\n",
       "      <td>Swimming naked near a date palm where many dat...</td>\n",
       "      <td>6</td>\n",
       "      <td>N</td>\n",
       "      <td>Child</td>\n",
       "      <td>bull shark</td>\n",
       "      <td>10.0</td>\n",
       "      <td>0.0</td>\n",
       "      <td>0.0</td>\n",
       "      <td>0.0</td>\n",
       "      <td>10.0</td>\n",
       "    </tr>\n",
       "    <tr>\n",
       "      <th>848</th>\n",
       "      <td>848</td>\n",
       "      <td>IRAQ</td>\n",
       "      <td>Swimming in section of river used for washing ...</td>\n",
       "      <td>16</td>\n",
       "      <td>N</td>\n",
       "      <td>Teenager</td>\n",
       "      <td>bull shark</td>\n",
       "      <td>0.0</td>\n",
       "      <td>20.0</td>\n",
       "      <td>0.0</td>\n",
       "      <td>0.0</td>\n",
       "      <td>20.0</td>\n",
       "    </tr>\n",
       "    <tr>\n",
       "      <th>849</th>\n",
       "      <td>849</td>\n",
       "      <td>IRAQ</td>\n",
       "      <td>Swimming</td>\n",
       "      <td>13</td>\n",
       "      <td>Y</td>\n",
       "      <td>Teenager</td>\n",
       "      <td>bull shark</td>\n",
       "      <td>0.0</td>\n",
       "      <td>20.0</td>\n",
       "      <td>0.0</td>\n",
       "      <td>0.0</td>\n",
       "      <td>20.0</td>\n",
       "    </tr>\n",
       "  </tbody>\n",
       "</table>\n",
       "<p>850 rows × 12 columns</p>\n",
       "</div>"
      ],
      "text/plain": [
       "     Unnamed: 0     Country  \\\n",
       "0             0         USA   \n",
       "1             1      BRAZIL   \n",
       "2             2         USA   \n",
       "3             3   AUSTRALIA   \n",
       "4             4  COSTA RICA   \n",
       "..          ...         ...   \n",
       "845         845   AUSTRALIA   \n",
       "846         846         USA   \n",
       "847         847        IRAQ   \n",
       "848         848        IRAQ   \n",
       "849         849        IRAQ   \n",
       "\n",
       "                                              Activity  Age Fatal (Y/N)  \\\n",
       "0                                             Paddling   57           N   \n",
       "1                                             Swimming   18           Y   \n",
       "2                                              Walking   15           N   \n",
       "3                                       Feeding sharks   34           N   \n",
       "4                                         Scuba diving   30           N   \n",
       "..                                                 ...  ...         ...   \n",
       "845                                           Swimming   12           Y   \n",
       "846  Skin diving. Grabbed shark's tail; shark turne...   19           N   \n",
       "847  Swimming naked near a date palm where many dat...    6           N   \n",
       "848  Swimming in section of river used for washing ...   16           N   \n",
       "849                                           Swimming   13           Y   \n",
       "\n",
       "    Age Group  Top Species  Arm Pts  Leg Pts  Body Pts  Head Pts  Total Pts  \n",
       "0       Adult  white shark      0.0      0.0       0.0       0.0        0.0  \n",
       "1       Adult  tiger shark      0.0      0.0       0.0       0.0        0.0  \n",
       "2    Teenager   bull shark      0.0     20.0       0.0       0.0       20.0  \n",
       "3       Adult  nurse shark     10.0      0.0       0.0       0.0       10.0  \n",
       "4       Adult  tiger shark      0.0      0.0       0.0     100.0      100.0  \n",
       "..        ...          ...      ...      ...       ...       ...        ...  \n",
       "845     Child   bull shark      0.0     20.0       0.0       0.0       20.0  \n",
       "846     Adult  nurse shark     10.0     20.0       0.0       0.0       30.0  \n",
       "847     Child   bull shark     10.0      0.0       0.0       0.0       10.0  \n",
       "848  Teenager   bull shark      0.0     20.0       0.0       0.0       20.0  \n",
       "849  Teenager   bull shark      0.0     20.0       0.0       0.0       20.0  \n",
       "\n",
       "[850 rows x 12 columns]"
      ]
     },
     "execution_count": 34,
     "metadata": {},
     "output_type": "execute_result"
    }
   ],
   "source": [
    "attacks = pd.read_csv('/Users/lauurasarabia/Ironhack/projects/attacks_project/cleaning.csv')\n",
    "attacks"
   ]
  },
  {
   "cell_type": "markdown",
   "id": "3103d61c",
   "metadata": {},
   "source": [
    "* How many species are we considering?"
   ]
  },
  {
   "cell_type": "markdown",
   "id": "891f48b4",
   "metadata": {},
   "source": [
    "    6 SPECIES:\n",
    "- WHITE SHARK\n",
    "- TIGER SHARK\n",
    "- BULL SHARK\n",
    "- NURSE SHARK\n",
    "- HAMMERHEAD SHARK\n",
    "- GALAPAGOS SHARK"
   ]
  },
  {
   "cell_type": "code",
   "execution_count": 45,
   "id": "2eeaf178",
   "metadata": {},
   "outputs": [
    {
     "data": {
      "image/png": "[encoded data removed]",
      "text/plain": [
       "<Figure size 432x288 with 1 Axes>"
      ]
     },
     "metadata": {
      "needs_background": "light"
     },
     "output_type": "display_data"
    }
   ],
   "source": [
    "# In the following barplot you can see that White Shark is the most common one.\n",
    "\n",
    "attacks[\"Top Species\"].value_counts().plot(kind=\"bar\", color=[\"#33BAAE\", \"#33CEFF\", \"#7863DE\", \"#DE63DA\", \"#DFE644\", \"#BA3C2D\"], title=\"Number of sharks divided by species\");"
   ]
  },
  {
   "cell_type": "code",
   "execution_count": null,
   "id": "504cf515",
   "metadata": {},
   "outputs": [],
   "source": [
    "# Make a random dataset:\n",
    "height = [3, 12, 5, 18, 45]\n",
    "bars = ('A', 'B', 'C', 'D', 'E')\n",
    "y_pos = np.arange(len(bars))\n",
    "\n",
    "# Create bars\n",
    "plt.bar(y_pos, height)\n",
    "\n",
    "# Create names on the x-axis\n",
    "plt.xticks(y_pos, bars)\n",
    "\n",
    "# Show graphic\n",
    "plt.show()"
   ]
  },
  {
   "cell_type": "code",
   "execution_count": 49,
   "id": "07b2edd2",
   "metadata": {},
   "outputs": [
    {
     "ename": "ZeroDivisionError",
     "evalue": "float division by zero",
     "output_type": "error",
     "traceback": [
      "\u001b[0;31m---------------------------------------------------------------------------\u001b[0m",
      "\u001b[0;31mZeroDivisionError\u001b[0m                         Traceback (most recent call last)",
      "Input \u001b[0;32mIn [49]\u001b[0m, in \u001b[0;36m<cell line: 1>\u001b[0;34m()\u001b[0m\n\u001b[0;32m----> 1\u001b[0m \u001b[43msquarify\u001b[49m\u001b[38;5;241;43m.\u001b[39;49m\u001b[43mplot\u001b[49m\u001b[43m(\u001b[49m\u001b[43msizes\u001b[49m\u001b[38;5;241;43m=\u001b[39;49m\u001b[43mattacks\u001b[49m\u001b[43m[\u001b[49m\u001b[38;5;124;43m'\u001b[39;49m\u001b[38;5;124;43mTotal Pts\u001b[39;49m\u001b[38;5;124;43m'\u001b[39;49m\u001b[43m]\u001b[49m\u001b[43m,\u001b[49m\u001b[43m \u001b[49m\u001b[43mlabel\u001b[49m\u001b[38;5;241;43m=\u001b[39;49m\u001b[43mattacks\u001b[49m\u001b[43m[\u001b[49m\u001b[38;5;124;43m'\u001b[39;49m\u001b[38;5;124;43mTop Species\u001b[39;49m\u001b[38;5;124;43m'\u001b[39;49m\u001b[43m]\u001b[49m\u001b[43m,\u001b[49m\u001b[43m \u001b[49m\u001b[43malpha\u001b[49m\u001b[38;5;241;43m=\u001b[39;49m\u001b[38;5;241;43m8\u001b[39;49m\u001b[43m \u001b[49m\u001b[43m)\u001b[49m\n\u001b[1;32m      2\u001b[0m plt\u001b[38;5;241m.\u001b[39maxis(\u001b[38;5;124m'\u001b[39m\u001b[38;5;124moff\u001b[39m\u001b[38;5;124m'\u001b[39m)\n\u001b[1;32m      3\u001b[0m plt\u001b[38;5;241m.\u001b[39mshow()\n",
      "File \u001b[0;32m~/miniconda3/envs/ironhack/lib/python3.9/site-packages/squarify/__init__.py:246\u001b[0m, in \u001b[0;36mplot\u001b[0;34m(sizes, norm_x, norm_y, color, label, value, ax, pad, bar_kwargs, text_kwargs, **kwargs)\u001b[0m\n\u001b[1;32m    244\u001b[0m     rects \u001b[38;5;241m=\u001b[39m padded_squarify(normed, \u001b[38;5;241m0\u001b[39m, \u001b[38;5;241m0\u001b[39m, norm_x, norm_y)\n\u001b[1;32m    245\u001b[0m \u001b[38;5;28;01melse\u001b[39;00m:\n\u001b[0;32m--> 246\u001b[0m     rects \u001b[38;5;241m=\u001b[39m \u001b[43msquarify\u001b[49m\u001b[43m(\u001b[49m\u001b[43mnormed\u001b[49m\u001b[43m,\u001b[49m\u001b[43m \u001b[49m\u001b[38;5;241;43m0\u001b[39;49m\u001b[43m,\u001b[49m\u001b[43m \u001b[49m\u001b[38;5;241;43m0\u001b[39;49m\u001b[43m,\u001b[49m\u001b[43m \u001b[49m\u001b[43mnorm_x\u001b[49m\u001b[43m,\u001b[49m\u001b[43m \u001b[49m\u001b[43mnorm_y\u001b[49m\u001b[43m)\u001b[49m\n\u001b[1;32m    248\u001b[0m x \u001b[38;5;241m=\u001b[39m [rect[\u001b[38;5;124m\"\u001b[39m\u001b[38;5;124mx\u001b[39m\u001b[38;5;124m\"\u001b[39m] \u001b[38;5;28;01mfor\u001b[39;00m rect \u001b[38;5;129;01min\u001b[39;00m rects]\n\u001b[1;32m    249\u001b[0m y \u001b[38;5;241m=\u001b[39m [rect[\u001b[38;5;124m\"\u001b[39m\u001b[38;5;124my\u001b[39m\u001b[38;5;124m\"\u001b[39m] \u001b[38;5;28;01mfor\u001b[39;00m rect \u001b[38;5;129;01min\u001b[39;00m rects]\n",
      "File \u001b[0;32m~/miniconda3/envs/ironhack/lib/python3.9/site-packages/squarify/__init__.py:128\u001b[0m, in \u001b[0;36msquarify\u001b[0;34m(sizes, x, y, dx, dy)\u001b[0m\n\u001b[1;32m    126\u001b[0m \u001b[38;5;66;03m# figure out where 'split' should be\u001b[39;00m\n\u001b[1;32m    127\u001b[0m i \u001b[38;5;241m=\u001b[39m \u001b[38;5;241m1\u001b[39m\n\u001b[0;32m--> 128\u001b[0m \u001b[38;5;28;01mwhile\u001b[39;00m i \u001b[38;5;241m<\u001b[39m \u001b[38;5;28mlen\u001b[39m(sizes) \u001b[38;5;129;01mand\u001b[39;00m \u001b[43mworst_ratio\u001b[49m\u001b[43m(\u001b[49m\u001b[43msizes\u001b[49m\u001b[43m[\u001b[49m\u001b[43m:\u001b[49m\u001b[43mi\u001b[49m\u001b[43m]\u001b[49m\u001b[43m,\u001b[49m\u001b[43m \u001b[49m\u001b[43mx\u001b[49m\u001b[43m,\u001b[49m\u001b[43m \u001b[49m\u001b[43my\u001b[49m\u001b[43m,\u001b[49m\u001b[43m \u001b[49m\u001b[43mdx\u001b[49m\u001b[43m,\u001b[49m\u001b[43m \u001b[49m\u001b[43mdy\u001b[49m\u001b[43m)\u001b[49m \u001b[38;5;241m>\u001b[39m\u001b[38;5;241m=\u001b[39m worst_ratio(\n\u001b[1;32m    129\u001b[0m     sizes[: (i \u001b[38;5;241m+\u001b[39m \u001b[38;5;241m1\u001b[39m)], x, y, dx, dy\n\u001b[1;32m    130\u001b[0m ):\n\u001b[1;32m    131\u001b[0m     i \u001b[38;5;241m+\u001b[39m\u001b[38;5;241m=\u001b[39m \u001b[38;5;241m1\u001b[39m\n\u001b[1;32m    132\u001b[0m current \u001b[38;5;241m=\u001b[39m sizes[:i]\n",
      "File \u001b[0;32m~/miniconda3/envs/ironhack/lib/python3.9/site-packages/squarify/__init__.py:86\u001b[0m, in \u001b[0;36mworst_ratio\u001b[0;34m(sizes, x, y, dx, dy)\u001b[0m\n\u001b[1;32m     82\u001b[0m \u001b[38;5;28;01mdef\u001b[39;00m \u001b[38;5;21mworst_ratio\u001b[39m(sizes, x, y, dx, dy):\n\u001b[1;32m     83\u001b[0m     \u001b[38;5;28;01mreturn\u001b[39;00m \u001b[38;5;28mmax\u001b[39m(\n\u001b[1;32m     84\u001b[0m         [\n\u001b[1;32m     85\u001b[0m             \u001b[38;5;28mmax\u001b[39m(rect[\u001b[38;5;124m\"\u001b[39m\u001b[38;5;124mdx\u001b[39m\u001b[38;5;124m\"\u001b[39m] \u001b[38;5;241m/\u001b[39m rect[\u001b[38;5;124m\"\u001b[39m\u001b[38;5;124mdy\u001b[39m\u001b[38;5;124m\"\u001b[39m], rect[\u001b[38;5;124m\"\u001b[39m\u001b[38;5;124mdy\u001b[39m\u001b[38;5;124m\"\u001b[39m] \u001b[38;5;241m/\u001b[39m rect[\u001b[38;5;124m\"\u001b[39m\u001b[38;5;124mdx\u001b[39m\u001b[38;5;124m\"\u001b[39m])\n\u001b[0;32m---> 86\u001b[0m             \u001b[38;5;28;01mfor\u001b[39;00m rect \u001b[38;5;129;01min\u001b[39;00m \u001b[43mlayout\u001b[49m\u001b[43m(\u001b[49m\u001b[43msizes\u001b[49m\u001b[43m,\u001b[49m\u001b[43m \u001b[49m\u001b[43mx\u001b[49m\u001b[43m,\u001b[49m\u001b[43m \u001b[49m\u001b[43my\u001b[49m\u001b[43m,\u001b[49m\u001b[43m \u001b[49m\u001b[43mdx\u001b[49m\u001b[43m,\u001b[49m\u001b[43m \u001b[49m\u001b[43mdy\u001b[49m\u001b[43m)\u001b[49m\n\u001b[1;32m     87\u001b[0m         ]\n\u001b[1;32m     88\u001b[0m     )\n",
      "File \u001b[0;32m~/miniconda3/envs/ironhack/lib/python3.9/site-packages/squarify/__init__.py:48\u001b[0m, in \u001b[0;36mlayout\u001b[0;34m(sizes, x, y, dx, dy)\u001b[0m\n\u001b[1;32m     46\u001b[0m \u001b[38;5;28;01mdef\u001b[39;00m \u001b[38;5;21mlayout\u001b[39m(sizes, x, y, dx, dy):\n\u001b[1;32m     47\u001b[0m     \u001b[38;5;28;01mreturn\u001b[39;00m (\n\u001b[0;32m---> 48\u001b[0m         \u001b[43mlayoutrow\u001b[49m\u001b[43m(\u001b[49m\u001b[43msizes\u001b[49m\u001b[43m,\u001b[49m\u001b[43m \u001b[49m\u001b[43mx\u001b[49m\u001b[43m,\u001b[49m\u001b[43m \u001b[49m\u001b[43my\u001b[49m\u001b[43m,\u001b[49m\u001b[43m \u001b[49m\u001b[43mdx\u001b[49m\u001b[43m,\u001b[49m\u001b[43m \u001b[49m\u001b[43mdy\u001b[49m\u001b[43m)\u001b[49m \u001b[38;5;28;01mif\u001b[39;00m dx \u001b[38;5;241m>\u001b[39m\u001b[38;5;241m=\u001b[39m dy \u001b[38;5;28;01melse\u001b[39;00m layoutcol(sizes, x, y, dx, dy)\n\u001b[1;32m     49\u001b[0m     )\n",
      "File \u001b[0;32m~/miniconda3/envs/ironhack/lib/python3.9/site-packages/squarify/__init__.py:27\u001b[0m, in \u001b[0;36mlayoutrow\u001b[0;34m(sizes, x, y, dx, dy)\u001b[0m\n\u001b[1;32m     25\u001b[0m rects \u001b[38;5;241m=\u001b[39m []\n\u001b[1;32m     26\u001b[0m \u001b[38;5;28;01mfor\u001b[39;00m size \u001b[38;5;129;01min\u001b[39;00m sizes:\n\u001b[0;32m---> 27\u001b[0m     rects\u001b[38;5;241m.\u001b[39mappend({\u001b[38;5;124m\"\u001b[39m\u001b[38;5;124mx\u001b[39m\u001b[38;5;124m\"\u001b[39m: x, \u001b[38;5;124m\"\u001b[39m\u001b[38;5;124my\u001b[39m\u001b[38;5;124m\"\u001b[39m: y, \u001b[38;5;124m\"\u001b[39m\u001b[38;5;124mdx\u001b[39m\u001b[38;5;124m\"\u001b[39m: width, \u001b[38;5;124m\"\u001b[39m\u001b[38;5;124mdy\u001b[39m\u001b[38;5;124m\"\u001b[39m: \u001b[43msize\u001b[49m\u001b[43m \u001b[49m\u001b[38;5;241;43m/\u001b[39;49m\u001b[43m \u001b[49m\u001b[43mwidth\u001b[49m})\n\u001b[1;32m     28\u001b[0m     y \u001b[38;5;241m+\u001b[39m\u001b[38;5;241m=\u001b[39m size \u001b[38;5;241m/\u001b[39m width\n\u001b[1;32m     29\u001b[0m \u001b[38;5;28;01mreturn\u001b[39;00m rects\n",
      "\u001b[0;31mZeroDivisionError\u001b[0m: float division by zero"
     ]
    },
    {
     "data": {
      "image/png": "[encoded data removed]",
      "text/plain": [
       "<Figure size 432x288 with 1 Axes>"
      ]
     },
     "metadata": {
      "needs_background": "light"
     },
     "output_type": "display_data"
    }
   ],
   "source": [
    "squarify.plot(sizes=attacks['Total Pts'], label=attacks['Top Species'], alpha=.8 )\n",
    "plt.axis('off')\n",
    "plt.show()"
   ]
  },
  {
   "cell_type": "code",
   "execution_count": 39,
   "id": "bad6b6ab",
   "metadata": {},
   "outputs": [
    {
     "data": {
      "text/plain": [
       "<AxesSubplot: xlabel='Top Species', ylabel='Total Pts'>"
      ]
     },
     "execution_count": 39,
     "metadata": {},
     "output_type": "execute_result"
    },
    {
     "data": {
      "image/png": "[encoded data removed]",
      "text/plain": [
       "<Figure size 432x288 with 1 Axes>"
      ]
     },
     "metadata": {
      "needs_background": "light"
     },
     "output_type": "display_data"
    }
   ],
   "source": [
    "sns.barplot(x=attacks[\"Top Species\"], y=attacks[\"Total Pts\"], palette=\"magma\", estimator=sum)"
   ]
  },
  {
   "cell_type": "code",
   "execution_count": 83,
   "id": "f86aa45e",
   "metadata": {},
   "outputs": [
    {
     "data": {
      "image/png": "[encoded data removed]",
      "text/plain": [
       "<Figure size 432x288 with 1 Axes>"
      ]
     },
     "metadata": {
      "needs_background": "light"
     },
     "output_type": "display_data"
    }
   ],
   "source": [
    "# Create dataset\n",
    "height = attacks.groupby([\"Top Species\"])[\"Total Pts\"].sum().tolist()\n",
    "bars = attacks[\"Top Species\"].unique().tolist()\n",
    "x_pos = np.arange(len(bars))\n",
    " \n",
    "# Create bars\n",
    "plt.bar(x_pos, height)\n",
    " \n",
    "# Create names on the x-axis\n",
    "plt.xticks(x_pos, bars, rotation = 70)\n",
    " \n",
    "# Show graphic\n",
    "plt.show()\n"
   ]
  },
  {
   "cell_type": "code",
   "execution_count": 75,
   "id": "c96e6c78",
   "metadata": {},
   "outputs": [
    {
     "data": {
      "text/plain": [
       "[3460.0, 130.0, 600.0, 2420.0, 5010.0, 8790.0]"
      ]
     },
     "execution_count": 75,
     "metadata": {},
     "output_type": "execute_result"
    }
   ],
   "source": [
    "attacks.groupby([\"Top Species\"])[\"Total Pts\"].sum().tolist()"
   ]
  },
  {
   "cell_type": "code",
   "execution_count": 77,
   "id": "5906074e",
   "metadata": {},
   "outputs": [
    {
     "data": {
      "text/plain": [
       "['white shark',\n",
       " 'tiger shark',\n",
       " 'bull shark',\n",
       " 'nurse shark',\n",
       " 'galapagos shark',\n",
       " 'hammerhead shark']"
      ]
     },
     "execution_count": 77,
     "metadata": {},
     "output_type": "execute_result"
    }
   ],
   "source": [
    "attacks[\"Top Species\"].unique().tolist()"
   ]
  },
  {
   "cell_type": "code",
   "execution_count": null,
   "id": "0506cdd5",
   "metadata": {},
   "outputs": [],
   "source": [
    "attacks[\"To\"].tolist()"
   ]
  }
 ],
 "metadata": {
  "kernelspec": {
   "display_name": "ironhack",
   "language": "python",
   "name": "ironhack"
  },
  "language_info": {
   "codemirror_mode": {
    "name": "ipython",
    "version": 3
   },
   "file_extension": ".py",
   "mimetype": "text/x-python",
   "name": "python",
   "nbconvert_exporter": "python",
   "pygments_lexer": "ipython3",
   "version": "3.9.12"
  },
  "toc": {
   "base_numbering": 1,
   "nav_menu": {},
   "number_sections": true,
   "sideBar": true,
   "skip_h1_title": false,
   "title_cell": "Table of Contents",
   "title_sidebar": "Contents",
   "toc_cell": false,
   "toc_position": {},
   "toc_section_display": true,
   "toc_window_display": false
  }
 },
 "nbformat": 4,
 "nbformat_minor": 5
}
